{
 "cells": [
  {
   "cell_type": "code",
   "execution_count": 2,
   "id": "9c211684-4a69-44a0-a1c3-88e7cb215139",
   "metadata": {},
   "outputs": [
    {
     "name": "stdin",
     "output_type": "stream",
     "text": [
      "enter your marks 50\n"
     ]
    },
    {
     "name": "stdout",
     "output_type": "stream",
     "text": [
      "Grade D\n"
     ]
    }
   ],
   "source": [
    "# Question 1\n",
    "marks = int(input(\"enter your marks\"))\n",
    "\n",
    "if ( marks > 90 ):\n",
    "    print( \"Grade A\")\n",
    "elif ( marks > 80 and marks <= 90 ):\n",
    "    print( \"Grade B\")\n",
    "elif ( marks >= 60 and marks <=80 ):\n",
    "    print( \"Grade C\")\n",
    "else:\n",
    "    print(\"Grade D\")\n",
    "    "
   ]
  },
  {
   "cell_type": "code",
   "execution_count": 3,
   "id": "f0fe6756-b31b-4996-b527-d5eef06f0da3",
   "metadata": {},
   "outputs": [
    {
     "name": "stdin",
     "output_type": "stream",
     "text": [
      "Enter the price 50000\n"
     ]
    },
    {
     "name": "stdout",
     "output_type": "stream",
     "text": [
      "Tax applied is 5%\n"
     ]
    }
   ],
   "source": [
    "# Question 2\n",
    "Cost_price = int(input(\"Enter the price\"))\n",
    "\n",
    "if (Cost_price > 100000):\n",
    "    print(\"Tax applied is 15%\")\n",
    "elif (Cost_price > 50000 and Cost_price <= 100000):\n",
    "    print(\"Tax applied is 10%\")\n",
    "else:\n",
    "    print(\"Tax applied is 5%\")\n",
    "\n",
    "\n"
   ]
  },
  {
   "cell_type": "code",
   "execution_count": 4,
   "id": "abf70ad9-8690-41ea-ab88-295308912edd",
   "metadata": {},
   "outputs": [
    {
     "name": "stdin",
     "output_type": "stream",
     "text": [
      "city name Delhi\n"
     ]
    },
    {
     "name": "stdout",
     "output_type": "stream",
     "text": [
      "Red Fort\n"
     ]
    }
   ],
   "source": [
    "# Question 3\n",
    "city = str(input(\"city name\"))\n",
    "\n",
    "if (city == \"Delhi\" ):\n",
    "    print(\"Red Fort\")\n",
    "elif (city == \"Agra\"):\n",
    "    print(\"Taj Mahal\")\n",
    "elif (city == \"Jaipur\"):\n",
    "    print(\"Jal Mahal\")\n",
    "else:\n",
    "    print(\"Enter correct city\")\n",
    "\n"
   ]
  },
  {
   "cell_type": "code",
   "execution_count": 4,
   "id": "59d270fd-a7c3-4f53-89e3-80b8a2708e6e",
   "metadata": {},
   "outputs": [
    {
     "name": "stdout",
     "output_type": "stream",
     "text": [
      "Total Iterations required 3\n"
     ]
    }
   ],
   "source": [
    "# Question 4\n",
    "count = 0\n",
    "number = 150\n",
    "while number > 10:\n",
    "    number = number / 3\n",
    "    count = count + 1\n",
    "print(\"Total Iterations required\",count)"
   ]
  },
  {
   "cell_type": "code",
   "execution_count": 13,
   "id": "b8452b0b-cc88-4b36-ac7e-e1bf7ea5e12f",
   "metadata": {},
   "outputs": [
    {
     "name": "stdout",
     "output_type": "stream",
     "text": [
      "1  \n",
      "3 3  \n",
      "5 5 5  \n",
      "7 7 7 7  \n",
      "9 9 9 9 9  \n",
      "11 11 11 11 11 11  \n",
      "13 13 13 13 13 13 13  \n",
      "15 15 15 15 15 15 15 15  \n",
      "* \n",
      "* * \n",
      "* * * \n",
      "* * * * \n",
      "* * * * * \n",
      "* * * * * * \n",
      "* * * * * * * \n",
      "  * * * * * * \n",
      "    * * * * * \n",
      "      * * * * \n",
      "        * * * \n",
      "          * * \n",
      "            * \n"
     ]
    }
   ],
   "source": [
    "# Question 5\n",
    "#Alternate numbers pattern\n",
    "# pattern 1\n",
    "print(end='')\n",
    "rows = 8\n",
    "i = 1\n",
    "while i <= rows:\n",
    "    j = 1\n",
    "    while j <= i:\n",
    "        print((i * 2 - 1), end = \" \")\n",
    "        j = j + 1\n",
    "    i = i + 1\n",
    "    print(' ')\n",
    "\n",
    "print(end='')\n",
    "\n",
    "# pattern 2    \n",
    "i = 1\n",
    "while i < 7:\n",
    "    j = 0  \n",
    "    while j < i:\n",
    "        print('*', end=' ')\n",
    "        j = j + 1\n",
    "    print('')\n",
    "    i = i + 1\n",
    "\n",
    "#  pattern 3   \n",
    "rows = 7\n",
    "i = rows\n",
    "while i >= 1:\n",
    "    j = rows\n",
    "    while j > i:\n",
    "        print(' ', end=' ')\n",
    "        j -= 1\n",
    "    k = 1\n",
    "    while k <= i:\n",
    "        print('*', end=' ')\n",
    "        k += 1\n",
    "    print()\n",
    "    i -= 1"
   ]
  },
  {
   "cell_type": "raw",
   "id": "b5a519b1-ba43-42c8-8e80-b0b53b4d6d36",
   "metadata": {},
   "source": [
    "question 6\n",
    "\n",
    "Python While Loop is used to execute a block of statements repeatedly until a given condition is satisfied. And when the condition becomes false, the line immediately after the loop in the program is executed."
   ]
  },
  {
   "cell_type": "code",
   "execution_count": 14,
   "id": "8d7c602c-c8e0-4aa4-a5b8-e72b454733e8",
   "metadata": {},
   "outputs": [
    {
     "name": "stdout",
     "output_type": "stream",
     "text": [
      "this is while loop\n",
      "this is while loop\n",
      "this is while loop\n"
     ]
    }
   ],
   "source": [
    "# example\n",
    "# Python program to illustrate\n",
    "# while loop\n",
    "count = 0\n",
    "while (count < 3):\n",
    "\tcount = count + 1\n",
    "\tprint(\"this is while loop\")\n"
   ]
  },
  {
   "cell_type": "code",
   "execution_count": 11,
   "id": "6a72161a-6302-47da-8627-eb3d87cc3b25",
   "metadata": {},
   "outputs": [
    {
     "name": "stdout",
     "output_type": "stream",
     "text": [
      "10 9 8 7 6 5 4 3 2 1 0 "
     ]
    }
   ],
   "source": [
    "# Question 7\n",
    "i = 10\n",
    "\n",
    "while i>=0:\n",
    "    print(i, end=' ')\n",
    "    i = i-1"
   ]
  },
  {
   "cell_type": "code",
   "execution_count": 12,
   "id": "58f6bb70-50f8-4f02-a1db-6960ff5e1639",
   "metadata": {},
   "outputs": [
    {
     "name": "stdout",
     "output_type": "stream",
     "text": [
      "10 9 8 7 6 5 4 3 2 1 0 "
     ]
    }
   ],
   "source": [
    "i = 10\n",
    "\n",
    "while i>=0:\n",
    "    print(i, end=' ')\n",
    "    i = i-1"
   ]
  },
  {
   "cell_type": "code",
   "execution_count": null,
   "id": "06e48d56-0725-4743-9c58-09097c989328",
   "metadata": {},
   "outputs": [],
   "source": []
  }
 ],
 "metadata": {
  "kernelspec": {
   "display_name": "Python 3 (ipykernel)",
   "language": "python",
   "name": "python3"
  },
  "language_info": {
   "codemirror_mode": {
    "name": "ipython",
    "version": 3
   },
   "file_extension": ".py",
   "mimetype": "text/x-python",
   "name": "python",
   "nbconvert_exporter": "python",
   "pygments_lexer": "ipython3",
   "version": "3.10.8"
  }
 },
 "nbformat": 4,
 "nbformat_minor": 5
}
