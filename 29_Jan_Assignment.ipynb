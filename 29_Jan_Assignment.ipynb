{
 "cells": [
  {
   "cell_type": "markdown",
   "id": "bdbc387e-bdef-487a-bf39-2ebe998289a5",
   "metadata": {},
   "source": [
    "1. Who developed Python Programming Language?\n",
    "\n",
    "--> Python was developed by Guido van Rossum in the late 1980s and early 1990s."
   ]
  },
  {
   "cell_type": "markdown",
   "id": "aed16b97-e60e-4f0d-95b1-e7c23e940265",
   "metadata": {},
   "source": [
    "2. Which type of Programming does Python support?\n",
    "\n",
    "-->  Python supports the following programming paradigms:\n",
    "        \n",
    "        Object Oriented Programming\n",
    "        Functional Programming\n",
    "        Procedural Programming\n",
    "        Logical Programming \n",
    "        Imperative Programming\n",
    "        Declarative Programming"
   ]
  },
  {
   "cell_type": "markdown",
   "id": "d6b0aebb-a2c2-4d30-b498-e1086ed05736",
   "metadata": {},
   "source": [
    "3. Is Python case sensitive when dealing with identifiers?\n",
    "\n",
    "--> Yes, Python is case sensitive when dealing with identifiers. For example, variables named \"myVariable\" and \"myvariable\" would be considered as different variables."
   ]
  },
  {
   "cell_type": "markdown",
   "id": "fa2a63de-9203-44cf-9642-bf58a0154b90",
   "metadata": {},
   "source": [
    "4. What is the correct extension of the Python file?\n",
    "\n",
    "--> The correct extension for a Python file is \".py\". For example, a Python script file could be named \"example.py\"."
   ]
  },
  {
   "cell_type": "markdown",
   "id": "a3ba0b99-04c0-40fe-9c8d-abbd5e861097",
   "metadata": {},
   "source": [
    "5. Is Python code compiled or interpreted?\n",
    "\n",
    "--> Python code is interpreted. It is first compiled into bytecode, which is then executed by the Python interpreter."
   ]
  },
  {
   "cell_type": "markdown",
   "id": "c2231ca6-7114-4d2a-8bfe-63014cb6b2f3",
   "metadata": {},
   "source": [
    "6. Name a few blocks of code used to define in Python language?\n",
    "\n",
    "--> Some common blocks of code used in Python are:\n",
    "\n",
    "\n",
    "    Function definitions: Used to define reusable blocks of code.\n",
    "    Conditional statements (if, elif, else): Used to execute code based on certain conditions.\n",
    "    Looping statements (for, while): Used to repeat code execution.\n",
    "    Class definitions: Used to define object-oriented structures and behaviors.\n"
   ]
  },
  {
   "cell_type": "markdown",
   "id": "2c1c4828-4132-452b-9fc5-90237f1b31f5",
   "metadata": {},
   "source": [
    "7. State a character used to give single-line comments in Python?\n",
    "\n",
    "--> The character \"#\" is used to give single-line comments in Python. Anything written after \"#\" on a line is considered a comment and is not executed by the interpreter."
   ]
  },
  {
   "cell_type": "markdown",
   "id": "d420dfde-e703-48ba-b499-f800b78d8aef",
   "metadata": {},
   "source": [
    "8. Mention functions which can help us to find the version of python that we are currently working on?\n",
    "\n",
    "-->To find the version of Python you are currently working on, you can use the following function:\n",
    "    \n",
    "    sys.version: This function from the sys module returns a string containing the version number of the Python interpreter."
   ]
  },
  {
   "cell_type": "markdown",
   "id": "4b4b6904-8739-49d2-9765-12adea5c863c",
   "metadata": {},
   "source": [
    "9. Python supports the creation of anonymous functions at runtime, using a construct called\n",
    "\n",
    "-->Python supports the creation of anonymous functions at runtime using a construct called \"lambda functions.\" Lambda functions are small, anonymous functions that can take any number of arguments and return a single expression result."
   ]
  },
  {
   "cell_type": "markdown",
   "id": "bd21bff7-e72d-40ca-9870-567ed736f008",
   "metadata": {},
   "source": [
    "10. What does pip stand for python?\n",
    "\n",
    "-->\"pip\" stands for \"Pip Installs Packages\" or \"Preferred Installer Program.\" It is a package management system used to install and manage software packages written in Python."
   ]
  },
  {
   "cell_type": "markdown",
   "id": "a3c232ce-b6f0-4d3b-bf5c-a44b983035ee",
   "metadata": {},
   "source": [
    "11. Mention a few built-in functions in python?\n",
    "\n",
    "--> Python has many built-in functions. Some examples include:\n",
    "\n",
    "\n",
    "    print(): Used to display output on the console.\n",
    "    len(): Returns the length of an object (e.g., a string, list, or tuple).\n",
    "    type(): Returns the type of an object.\n",
    "    range(): Generates a sequence of numbers.\n",
    "    input(): Reads input from the user."
   ]
  },
  {
   "cell_type": "markdown",
   "id": "de713230-a868-4e4a-8ada-f5accf3deabf",
   "metadata": {},
   "source": [
    "12. What is the maximum possible length of an identifier in Python?\n",
    "\n",
    "--> The maximum possible length of an identifier in Python is implementation-dependent. \n",
    "                    \n",
    "    In practice, most implementations allow identifiers of any length, but it is recommended to keep them reasonably short for readability."
   ]
  },
  {
   "cell_type": "markdown",
   "id": "a2097cf0-ce13-4f96-920e-2b845be916bc",
   "metadata": {},
   "source": [
    "13. What are the benefits of using Python?\n",
    "\n",
    "-->Some benefits of using Python include:\n",
    "\n",
    "    Easy-to-read and expressive syntax, which promotes code readability and reduces development time.\n",
    "    Extensive standard library with a wide range of modules for various tasks.\n",
    "    Large and active community, resulting in a wealth of third-party libraries and frameworks.\n",
    "    Platform independence, allowing Python code to run on different operating systems.\n",
    "    Integration capabilities with other languages and tools.\n",
    "    Support for multiple programming paradigms, enabling flexibility in coding styles.\n",
    "\n",
    "\n"
   ]
  },
  {
   "cell_type": "markdown",
   "id": "e4a7196b-a856-4734-9311-3d5c9da783ed",
   "metadata": {},
   "source": [
    "14. How is memory managed in Python?\n",
    "\n",
    "-->Memory management in Python is handled automatically through a technique called \"garbage collection.\" Python uses a combination of reference counting and a cycle-detecting garbage collector to reclaim memory occupied by objects that are no longer in use. Developers do not need to manage memory explicitly."
   ]
  },
  {
   "cell_type": "markdown",
   "id": "31466884-0cdc-4ff5-884b-5e8ba2133563",
   "metadata": {},
   "source": [
    "15. How to install Python on Windows and set path variables?\n",
    "\n",
    "-->To install Python on Windows and set the path variables, you can follow these steps:\n",
    "\n",
    "    Visit the official Python website (python.org) and download the latest Python installer for Windows.\n",
    "    Run the installer and select the option to add Python to the system PATH variable during the installation process.\n",
    "    Complete the installation, and Python will be installed on your system.\n",
    "    To verify the installation, open the command prompt and type \"python --version\" to check the Python version. If it displays the version information, Python is installed correctly"
   ]
  },
  {
   "cell_type": "markdown",
   "id": "fa343148-3795-4cc0-b951-fdd5adf2b2c3",
   "metadata": {},
   "source": [
    "16. Is indentation required in python?\n",
    "\n",
    "-->Yes, indentation is required in Python. Unlike other programming languages that use braces or keywords to delimit blocks of code, Python uses indentation (whitespace at the beginning of lines) to determine the grouping and structure of code. Consistent indentation is essential for proper syntax and execution in Python."
   ]
  },
  {
   "cell_type": "code",
   "execution_count": null,
   "id": "ce97be44-33bb-4a89-b21c-f54d5e3e2143",
   "metadata": {},
   "outputs": [],
   "source": []
  }
 ],
 "metadata": {
  "kernelspec": {
   "display_name": "Python 3 (ipykernel)",
   "language": "python",
   "name": "python3"
  },
  "language_info": {
   "codemirror_mode": {
    "name": "ipython",
    "version": 3
   },
   "file_extension": ".py",
   "mimetype": "text/x-python",
   "name": "python",
   "nbconvert_exporter": "python",
   "pygments_lexer": "ipython3",
   "version": "3.10.8"
  }
 },
 "nbformat": 4,
 "nbformat_minor": 5
}
