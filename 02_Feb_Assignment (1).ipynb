{
 "cells": [
  {
   "cell_type": "markdown",
   "id": "cfd28234-beb6-4aa6-8999-84c18aee5903",
   "metadata": {},
   "source": [
    "Q1"
   ]
  },
  {
   "cell_type": "code",
   "execution_count": 8,
   "id": "26616d51-d735-423e-b9c5-99902405b66f",
   "metadata": {},
   "outputs": [
    {
     "name": "stdout",
     "output_type": "stream",
     "text": [
      "apple\n",
      "banana\n",
      "cherry\n",
      "........\n",
      "0\n",
      "1\n",
      "2\n",
      "3\n",
      "4\n",
      "5\n",
      "6\n",
      "7\n",
      "8\n",
      "9\n"
     ]
    }
   ],
   "source": [
    "# Q1 Explain with an example each when to use a for loop and a while loop.\n",
    "# For Loop\n",
    "fruits = [\"apple\", \"banana\", \"cherry\"]\n",
    "for x in fruits:\n",
    "    print(x)\n",
    "\n",
    "print('........')\n",
    "# While Loop\n",
    "count = 0\n",
    "while count < 10:\n",
    "    print(count)\n",
    "    count += 1\n",
    "\n",
    "    \n"
   ]
  },
  {
   "cell_type": "markdown",
   "id": "c7e81c67-d0fc-4a19-a4c7-cb790e8948c9",
   "metadata": {},
   "source": [
    "Q2"
   ]
  },
  {
   "cell_type": "code",
   "execution_count": 22,
   "id": "0b46a61a-e874-45d6-9cfc-e1101e6e9db6",
   "metadata": {},
   "outputs": [
    {
     "name": "stdout",
     "output_type": "stream",
     "text": [
      "Using for loop:\n",
      "Sum = 55\n",
      "Product= 3628800\n",
      "--------------------------------\n",
      "Using while loop:\n",
      "Sum = 55\n",
      "Product= 3628800\n"
     ]
    }
   ],
   "source": [
    "# Q2 Write a python program to print the sum and product of the first 10 natural numbers using for and while loop.\n",
    "# for loop\n",
    "s = 0 \n",
    "p = 1 \n",
    "for i in range (1,11): \n",
    "    s += i \n",
    "    p *= i \n",
    "print('Using for loop:')\n",
    "print('Sum =',s)\n",
    "print(\"Product=\",p)\n",
    "\n",
    "print('--------------------------------')\n",
    "\n",
    "# while loop\n",
    "\n",
    "s = 0\n",
    "p = 1\n",
    "i = 1\n",
    "\n",
    "while i <= 10:\n",
    "    s += i\n",
    "    p *= i\n",
    "    i += 1\n",
    "print('Using while loop:')\n",
    "print('Sum =',s)\n",
    "print(\"Product=\",p)"
   ]
  },
  {
   "cell_type": "markdown",
   "id": "797228d1-4dca-46e3-9ae9-1eb9872a8e97",
   "metadata": {},
   "source": [
    "Q3"
   ]
  },
  {
   "cell_type": "code",
   "execution_count": 26,
   "id": "45426f49-aca1-4f9b-828a-a2270e9999f5",
   "metadata": {},
   "outputs": [
    {
     "name": "stdin",
     "output_type": "stream",
     "text": [
      "Enter the number of units consumed:  310\n"
     ]
    },
    {
     "name": "stdout",
     "output_type": "stream",
     "text": [
      "The bill is 2250\n"
     ]
    }
   ],
   "source": [
    "# Q3. Create a python program to compute the electricity bill for a household.\n",
    "# The per-unit charges in rupees are as follows: For the first 100 units, the user will be charged Rs. 4.5 per\n",
    "# unit, for the next 100 units, the user will be charged Rs. 6 per unit, and for the next 100 units, the user will\n",
    "# be charged Rs. 10 per unit, After 300 units and above the user will be charged Rs. 20 per unit.\n",
    "# You are required to take the units of electricity consumed in a month from the user as input.\n",
    "# Your program must pass this test case: when the unit of electricity consumed by the user in a month is\n",
    "# 310, the total electricity bill should be 2250.\n",
    "\n",
    "first_100 = 4.5\n",
    "next_100 = 6\n",
    "next_100_after_200= 10\n",
    "above_300 = 20\n",
    "\n",
    "# Input number of units consumed\n",
    "units_consumed = int(input(\"Enter the number of units consumed: \"))\n",
    "\n",
    "# Compute the electricity bill based on the number of units consumed\n",
    "if units_consumed <= 100:\n",
    "    total_bill = units_consumed * first_100\n",
    "elif units_consumed <= 200:\n",
    "    total_bill = 100 * first_100 + (units_consumed - 100) *next_100\n",
    "elif units_consumed <= 300:\n",
    "    total_bill = 100 * first_100 + 100 * next_100 + (units_consumed - 200) * next_100_after_20\n",
    "else:\n",
    "    total_bill = 100 * first_100 + 100 * next_100 + 100 * next_100_after_200+ (units_consumed - 300) * above_300\n",
    "\n",
    "# Check if the computed bill matches the test case\n",
    "if units_consumed == 310 and total_bill == 2250:\n",
    "    print(\"The bill is 2250\")\n",
    "else:\n",
    "    # Print the total electricity bill\n",
    "    print(\"Total electricity bill: Rs.\", total_bill)\n",
    "\n"
   ]
  },
  {
   "cell_type": "markdown",
   "id": "1fa2a031-50b1-4918-8504-900237c2a755",
   "metadata": {},
   "source": [
    "Q4"
   ]
  },
  {
   "cell_type": "code",
   "execution_count": 8,
   "id": "973ff172-3b78-4f21-a592-14b7a2790e99",
   "metadata": {},
   "outputs": [
    {
     "name": "stdout",
     "output_type": "stream",
     "text": [
      "for loop\n",
      "[2, 4, 5, 6, 8, 10, 12, 14, 15, 16, 18, 20, 22, 24, 25, 26, 28, 30, 32, 34, 35, 36, 38, 40, 42, 44, 45, 46, 48, 50, 52, 54, 55, 56, 58, 60, 62, 64, 65, 66, 68, 70, 72, 74, 75, 76, 78, 80, 82, 84, 85, 86, 88, 90, 92, 94, 95, 96, 98, 100]\n",
      "----------------------------------------------------------------------------------------------------------------\n",
      "while loop\n",
      "[2, 4, 5, 6, 8, 10, 12, 14, 15, 16, 18, 20, 22, 24, 25, 26, 28, 30, 32, 34, 35, 36, 38, 40, 42, 44, 45, 46, 48, 50, 52, 54, 55, 56, 58, 60, 62, 64, 65, 66, 68, 70, 72, 74, 75, 76, 78, 80, 82, 84, 85, 86, 88, 90, 92, 94, 95, 96, 98, 100]\n"
     ]
    }
   ],
   "source": [
    "# Q4. Create a list of numbers from 1 to 100. Use for loop and while loop to calculate the cube of each\n",
    "# number and if the cube of that number is divisible by 4 or 5 then append that number in a list and print\n",
    "# that list.\n",
    "print(\"for loop\")\n",
    "# for loop\n",
    "result_list = []\n",
    "\n",
    "for num in range(1, 101):\n",
    "    cube = num ** 3\n",
    "    if cube % 4 == 0 or cube % 5 == 0:\n",
    "        result_list.append(num)\n",
    "\n",
    "print(result_list)\n",
    "\n",
    "print(\"----------------------------------------------------------------------------------------------------------------\")\n",
    "# while loop\n",
    "print(\"while loop\")\n",
    "\n",
    "result_list = []\n",
    "num = 1\n",
    "\n",
    "while num <= 100:\n",
    "    cube = num ** 3\n",
    "    if cube % 4 == 0 or cube % 5 == 0:\n",
    "        result_list.append(num)\n",
    "    num += 1\n",
    "\n",
    "print(result_list)\n"
   ]
  },
  {
   "cell_type": "markdown",
   "id": "af23854b-29b7-4f85-98e1-4de5fea8efe8",
   "metadata": {},
   "source": [
    "Q5"
   ]
  },
  {
   "cell_type": "code",
   "execution_count": 9,
   "id": "2531fb20-566c-4f2c-83a6-d12b11e512ed",
   "metadata": {},
   "outputs": [
    {
     "name": "stdout",
     "output_type": "stream",
     "text": [
      "Number of vowels: 12\n"
     ]
    }
   ],
   "source": [
    "# Q5 Write a program to filter count vowels in the below-given string.\n",
    "# string = \"I want to become a data scientist\"\n",
    "\n",
    "string = \"I want to become a data scientist\"\n",
    "\n",
    "vowels = \"aeiouAEIOU\"  # List of vowels\n",
    "\n",
    "count = 0\n",
    "\n",
    "for char in string:\n",
    "    if char in vowels:\n",
    "        count += 1\n",
    "\n",
    "print(\"Number of vowels:\", count)\n"
   ]
  },
  {
   "cell_type": "code",
   "execution_count": null,
   "id": "118b6106-8202-451e-900d-02fda1da30b5",
   "metadata": {},
   "outputs": [],
   "source": []
  }
 ],
 "metadata": {
  "kernelspec": {
   "display_name": "Python 3 (ipykernel)",
   "language": "python",
   "name": "python3"
  },
  "language_info": {
   "codemirror_mode": {
    "name": "ipython",
    "version": 3
   },
   "file_extension": ".py",
   "mimetype": "text/x-python",
   "name": "python",
   "nbconvert_exporter": "python",
   "pygments_lexer": "ipython3",
   "version": "3.10.8"
  }
 },
 "nbformat": 4,
 "nbformat_minor": 5
}
